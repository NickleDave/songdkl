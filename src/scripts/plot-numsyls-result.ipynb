{
 "cells": [
  {
   "cell_type": "code",
   "execution_count": 1,
   "id": "f63feef0-faa3-4fe5-8832-4a4039281752",
   "metadata": {},
   "outputs": [],
   "source": [
    "import pathlib\n",
    "\n",
    "import pandas as pd\n",
    "import seaborn as sns"
   ]
  },
  {
   "cell_type": "code",
   "execution_count": 2,
   "id": "7102692b-42cd-45f2-a7c1-bf6f6edee9bf",
   "metadata": {},
   "outputs": [],
   "source": [
    "bird_ids = [\n",
    "    'bk13bk12',\n",
    "    'bk17bk30',\n",
    "    'bk1bk3',\n",
    "    'bk1bk9',\n",
    "]"
   ]
  },
  {
   "cell_type": "code",
   "execution_count": 9,
   "id": "217c85c7-1519-49bf-aab5-83973ef3444d",
   "metadata": {},
   "outputs": [
    {
     "name": "stdout",
     "output_type": "stream",
     "text": [
      "/home/pimienta/Documents/repos/coding/vocalpy/songdkl\n"
     ]
    }
   ],
   "source": [
    "cd /home/pimienta/Documents/repos/coding/vocalpy/songdkl"
   ]
  },
  {
   "cell_type": "code",
   "execution_count": 10,
   "id": "741c1aef-c511-48a7-98f2-42af1b76e8e0",
   "metadata": {},
   "outputs": [],
   "source": [
    "generated_test_data_dir = pathlib.Path(f'./tests/data-for-tests/generated/')\n",
    "syl_count_txts = sorted(generated_test_data_dir.glob('*syl-counts.txt'))"
   ]
  },
  {
   "cell_type": "code",
   "execution_count": 17,
   "id": "a4df491a-80f8-4bfd-afda-e5945b69ddfc",
   "metadata": {},
   "outputs": [
    {
     "data": {
      "text/plain": [
       "[PosixPath('tests/data-for-tests/generated/pcb-script-syl-counts.txt'),\n",
       " PosixPath('tests/data-for-tests/generated/py-pkg-otsu-syl-counts.txt'),\n",
       " PosixPath('tests/data-for-tests/generated/py-pkg-syl-counts.txt')]"
      ]
     },
     "execution_count": 17,
     "metadata": {},
     "output_type": "execute_result"
    }
   ],
   "source": [
    "syl_count_txts"
   ]
  },
  {
   "cell_type": "code",
   "execution_count": 26,
   "id": "2c1fe3ce-8c04-4759-ac95-540bc94645d2",
   "metadata": {},
   "outputs": [],
   "source": [
    "data = []\n",
    "\n",
    "for syl_count_txt in syl_count_txts:\n",
    "    df = pd.read_csv(syl_count_txt, sep='\\t', header=None)\n",
    "    df.columns = ['Bird ID', 'Num. syllables']\n",
    "    if 'py-pkg' in syl_count_txt.name:\n",
    "        df['Bird ID'] = df['Bird ID'].map(lambda str_: str_.split('/')[-2])\n",
    "    df = df.iloc[:4,:] # don't keep any repeats\n",
    "    source = '-'.join(syl_count_txt.name.split('-')[:-2])\n",
    "    df['source'] = source\n",
    "    data.append(df)\n",
    "\n",
    "data = pd.concat(data)"
   ]
  },
  {
   "cell_type": "code",
   "execution_count": 27,
   "id": "e8ee447f-b354-43fa-860d-553fbb646700",
   "metadata": {},
   "outputs": [
    {
     "data": {
      "text/html": [
       "<div>\n",
       "<style scoped>\n",
       "    .dataframe tbody tr th:only-of-type {\n",
       "        vertical-align: middle;\n",
       "    }\n",
       "\n",
       "    .dataframe tbody tr th {\n",
       "        vertical-align: top;\n",
       "    }\n",
       "\n",
       "    .dataframe thead th {\n",
       "        text-align: right;\n",
       "    }\n",
       "</style>\n",
       "<table border=\"1\" class=\"dataframe\">\n",
       "  <thead>\n",
       "    <tr style=\"text-align: right;\">\n",
       "      <th></th>\n",
       "      <th>Bird ID</th>\n",
       "      <th>Num. syllables</th>\n",
       "      <th>source</th>\n",
       "    </tr>\n",
       "  </thead>\n",
       "  <tbody>\n",
       "    <tr>\n",
       "      <th>0</th>\n",
       "      <td>bk13bk12</td>\n",
       "      <td>7</td>\n",
       "      <td>pcb-script</td>\n",
       "    </tr>\n",
       "    <tr>\n",
       "      <th>1</th>\n",
       "      <td>bk17bk30</td>\n",
       "      <td>14</td>\n",
       "      <td>pcb-script</td>\n",
       "    </tr>\n",
       "    <tr>\n",
       "      <th>2</th>\n",
       "      <td>bk1bk3</td>\n",
       "      <td>8</td>\n",
       "      <td>pcb-script</td>\n",
       "    </tr>\n",
       "    <tr>\n",
       "      <th>3</th>\n",
       "      <td>bk1bk9</td>\n",
       "      <td>5</td>\n",
       "      <td>pcb-script</td>\n",
       "    </tr>\n",
       "    <tr>\n",
       "      <th>0</th>\n",
       "      <td>bk13bk12</td>\n",
       "      <td>11</td>\n",
       "      <td>py-pkg-otsu</td>\n",
       "    </tr>\n",
       "    <tr>\n",
       "      <th>1</th>\n",
       "      <td>bk17bk30</td>\n",
       "      <td>17</td>\n",
       "      <td>py-pkg-otsu</td>\n",
       "    </tr>\n",
       "    <tr>\n",
       "      <th>2</th>\n",
       "      <td>bk1bk3</td>\n",
       "      <td>8</td>\n",
       "      <td>py-pkg-otsu</td>\n",
       "    </tr>\n",
       "    <tr>\n",
       "      <th>3</th>\n",
       "      <td>bk1bk9</td>\n",
       "      <td>7</td>\n",
       "      <td>py-pkg-otsu</td>\n",
       "    </tr>\n",
       "    <tr>\n",
       "      <th>0</th>\n",
       "      <td>bk13bk12</td>\n",
       "      <td>11</td>\n",
       "      <td>py-pkg</td>\n",
       "    </tr>\n",
       "    <tr>\n",
       "      <th>1</th>\n",
       "      <td>bk17bk30</td>\n",
       "      <td>20</td>\n",
       "      <td>py-pkg</td>\n",
       "    </tr>\n",
       "    <tr>\n",
       "      <th>2</th>\n",
       "      <td>bk1bk3</td>\n",
       "      <td>8</td>\n",
       "      <td>py-pkg</td>\n",
       "    </tr>\n",
       "    <tr>\n",
       "      <th>3</th>\n",
       "      <td>bk1bk9</td>\n",
       "      <td>7</td>\n",
       "      <td>py-pkg</td>\n",
       "    </tr>\n",
       "  </tbody>\n",
       "</table>\n",
       "</div>"
      ],
      "text/plain": [
       "    Bird ID  Num. syllables       source\n",
       "0  bk13bk12               7   pcb-script\n",
       "1  bk17bk30              14   pcb-script\n",
       "2    bk1bk3               8   pcb-script\n",
       "3    bk1bk9               5   pcb-script\n",
       "0  bk13bk12              11  py-pkg-otsu\n",
       "1  bk17bk30              17  py-pkg-otsu\n",
       "2    bk1bk3               8  py-pkg-otsu\n",
       "3    bk1bk9               7  py-pkg-otsu\n",
       "0  bk13bk12              11       py-pkg\n",
       "1  bk17bk30              20       py-pkg\n",
       "2    bk1bk3               8       py-pkg\n",
       "3    bk1bk9               7       py-pkg"
      ]
     },
     "execution_count": 27,
     "metadata": {},
     "output_type": "execute_result"
    }
   ],
   "source": [
    "data"
   ]
  },
  {
   "cell_type": "code",
   "execution_count": 29,
   "id": "7fbe4ac7-8082-4765-83c4-9f0e3f802dc2",
   "metadata": {},
   "outputs": [
    {
     "data": {
      "image/png": "[encoded data removed]",
      "text/plain": [
       "<Figure size 432x288 with 1 Axes>"
      ]
     },
     "metadata": {
      "needs_background": "light"
     },
     "output_type": "display_data"
    }
   ],
   "source": [
    "sns.barplot(\n",
    "    data=data,\n",
    "    x='Bird ID',\n",
    "    y='Num. syllables',\n",
    "    hue='source'\n",
    ");"
   ]
  }
 ],
 "metadata": {
  "kernelspec": {
   "display_name": "Python 3 (ipykernel)",
   "language": "python",
   "name": "python3"
  },
  "language_info": {
   "codemirror_mode": {
    "name": "ipython",
    "version": 3
   },
   "file_extension": ".py",
   "mimetype": "text/x-python",
   "name": "python",
   "nbconvert_exporter": "python",
   "pygments_lexer": "ipython3",
   "version": "3.10.7"
  }
 },
 "nbformat": 4,
 "nbformat_minor": 5
}

{
 "cells": [
  {
   "cell_type": "code",
   "execution_count": 1,
   "id": "81f03bc9-3db3-4a44-bbb9-3a5518bd0249",
   "metadata": {},
   "outputs": [],
   "source": [
    "import pathlib\n",
    "\n",
    "import pandas as pd\n",
    "import seaborn as sns"
   ]
  },
  {
   "cell_type": "markdown",
   "id": "6b5b08a4-4185-460a-bbde-40d853786352",
   "metadata": {},
   "source": [
    "Change directory to project root."
   ]
  },
  {
   "cell_type": "code",
   "execution_count": 2,
   "id": "b166e923-e704-4b5b-9525-3c2f6cac8ba3",
   "metadata": {},
   "outputs": [
    {
     "name": "stdout",
     "output_type": "stream",
     "text": [
      "/home/pimienta/Documents/repos/coding/vocalpy/songdkl\n"
     ]
    }
   ],
   "source": [
    "cd ~/Documents/repos/coding/vocalpy/songdkl/"
   ]
  },
  {
   "cell_type": "markdown",
   "id": "b750d09f-bc25-4796-ad14-2829d4bdaf50",
   "metadata": {},
   "source": [
    "Load .csv of father-son relationships to use to organize results of running script that tests Song_DKL, and add column names."
   ]
  },
  {
   "cell_type": "code",
   "execution_count": 3,
   "id": "2a07b6ed-6f5d-48f9-8805-64fa1d26770a",
   "metadata": {},
   "outputs": [],
   "source": [
    "fath_offspring_csv = './tests/data-for-tests/source/fath_offspring.csv'\n",
    "\n",
    "fath_df = pd.read_csv(fath_offspring_csv, header=None)\n",
    "fath_df.columns = ['father', 'son']"
   ]
  },
  {
   "cell_type": "markdown",
   "id": "99ea0a84-f75f-4652-b803-0702e7b349d1",
   "metadata": {},
   "source": [
    "Load results of running `src/scripts/test_songdkl_calculate.py` as a pandas DataFrame.  \n",
    "Each row in the .csv is the result of running `songdkl.calculate` on two pairs from the dataset, that will either be a father and son--where the \"reference\" song is the father's--or two unreleated birds."
   ]
  },
  {
   "cell_type": "code",
   "execution_count": 17,
   "id": "a11cd497-60a8-4748-986c-62285e4e548f",
   "metadata": {},
   "outputs": [],
   "source": [
    "results_txt = './results/replicate-songdkl-pcb-script.txt'\n",
    "results_df = pd.read_csv(results_txt, sep='\\t', header=None)\n",
    "results_df.columns = [\n",
    "    'ref',\n",
    "    'compare',\n",
    "    'k_ref',\n",
    "    'k_compare',\n",
    "    'n_basis',\n",
    "    'DKL_PQ',\n",
    "    'DKL_QP',\n",
    "    'n_PSD_ref',\n",
    "    'n_PSD_compare',\n",
    "]"
   ]
  },
  {
   "cell_type": "code",
   "execution_count": 18,
   "id": "87c2237a-eb71-4fa2-a50f-e2a6b52d4fb0",
   "metadata": {},
   "outputs": [
    {
     "data": {
      "text/html": [
       "<div>\n",
       "<style scoped>\n",
       "    .dataframe tbody tr th:only-of-type {\n",
       "        vertical-align: middle;\n",
       "    }\n",
       "\n",
       "    .dataframe tbody tr th {\n",
       "        vertical-align: top;\n",
       "    }\n",
       "\n",
       "    .dataframe thead th {\n",
       "        text-align: right;\n",
       "    }\n",
       "</style>\n",
       "<table border=\"1\" class=\"dataframe\">\n",
       "  <thead>\n",
       "    <tr style=\"text-align: right;\">\n",
       "      <th></th>\n",
       "      <th>ref</th>\n",
       "      <th>compare</th>\n",
       "      <th>k_ref</th>\n",
       "      <th>k_compare</th>\n",
       "      <th>n_basis</th>\n",
       "      <th>DKL_PQ</th>\n",
       "      <th>DKL_QP</th>\n",
       "      <th>n_PSD_ref</th>\n",
       "      <th>n_PSD_compare</th>\n",
       "    </tr>\n",
       "  </thead>\n",
       "  <tbody>\n",
       "    <tr>\n",
       "      <th>0</th>\n",
       "      <td>g99o87</td>\n",
       "      <td>pu39w79</td>\n",
       "      <td>6</td>\n",
       "      <td>6</td>\n",
       "      <td>50.0</td>\n",
       "      <td>0.290613</td>\n",
       "      <td>0.201692</td>\n",
       "      <td>2644</td>\n",
       "      <td>3599</td>\n",
       "    </tr>\n",
       "    <tr>\n",
       "      <th>1</th>\n",
       "      <td>g99o87</td>\n",
       "      <td>pu64w91</td>\n",
       "      <td>6</td>\n",
       "      <td>6</td>\n",
       "      <td>50.0</td>\n",
       "      <td>0.494712</td>\n",
       "      <td>0.384049</td>\n",
       "      <td>2644</td>\n",
       "      <td>10074</td>\n",
       "    </tr>\n",
       "    <tr>\n",
       "      <th>2</th>\n",
       "      <td>g99o87</td>\n",
       "      <td>pu51w43</td>\n",
       "      <td>6</td>\n",
       "      <td>6</td>\n",
       "      <td>50.0</td>\n",
       "      <td>0.695798</td>\n",
       "      <td>0.345702</td>\n",
       "      <td>2644</td>\n",
       "      <td>10017</td>\n",
       "    </tr>\n",
       "    <tr>\n",
       "      <th>3</th>\n",
       "      <td>g99o87</td>\n",
       "      <td>pu71w42</td>\n",
       "      <td>6</td>\n",
       "      <td>6</td>\n",
       "      <td>50.0</td>\n",
       "      <td>0.401649</td>\n",
       "      <td>0.253985</td>\n",
       "      <td>2644</td>\n",
       "      <td>3336</td>\n",
       "    </tr>\n",
       "    <tr>\n",
       "      <th>4</th>\n",
       "      <td>g99o87</td>\n",
       "      <td>pu1w51</td>\n",
       "      <td>6</td>\n",
       "      <td>6</td>\n",
       "      <td>50.0</td>\n",
       "      <td>0.314378</td>\n",
       "      <td>0.382412</td>\n",
       "      <td>2644</td>\n",
       "      <td>7209</td>\n",
       "    </tr>\n",
       "  </tbody>\n",
       "</table>\n",
       "</div>"
      ],
      "text/plain": [
       "      ref  compare  k_ref  k_compare  n_basis    DKL_PQ    DKL_QP  n_PSD_ref  \\\n",
       "0  g99o87  pu39w79      6          6     50.0  0.290613  0.201692       2644   \n",
       "1  g99o87  pu64w91      6          6     50.0  0.494712  0.384049       2644   \n",
       "2  g99o87  pu51w43      6          6     50.0  0.695798  0.345702       2644   \n",
       "3  g99o87  pu71w42      6          6     50.0  0.401649  0.253985       2644   \n",
       "4  g99o87   pu1w51      6          6     50.0  0.314378  0.382412       2644   \n",
       "\n",
       "   n_PSD_compare  \n",
       "0           3599  \n",
       "1          10074  \n",
       "2          10017  \n",
       "3           3336  \n",
       "4           7209  "
      ]
     },
     "execution_count": 18,
     "metadata": {},
     "output_type": "execute_result"
    }
   ],
   "source": [
    "results_df.head()"
   ]
  },
  {
   "cell_type": "markdown",
   "id": "d07af09e-0b8f-4e48-b7a2-dc3779f42b7f",
   "metadata": {},
   "source": [
    "Now use the father-son .csv to add a column indicating for each row whether the two birds are related, i.e. whether the reference song is the father's song and the comparison song is one of that father's sons."
   ]
  },
  {
   "cell_type": "code",
   "execution_count": 19,
   "id": "56cee868-b0ee-49ad-a0f8-2c1357c7e890",
   "metadata": {},
   "outputs": [],
   "source": [
    "def related(row):    \n",
    "    return ((fath_df.father == row['ref']) & (fath_df.son == row['compare'])).any()\n",
    "\n",
    "results_df['related'] = results_df.apply(related, axis=1)    "
   ]
  },
  {
   "cell_type": "markdown",
   "id": "e1698062-843f-46dc-a79b-b04251efd29b",
   "metadata": {},
   "source": [
    "Finally make a grouped box plot where the top-level group, the x-axis variable, is fathers, and the factors within that group are whether or not the comparison song was from one of the father's son. We expect that $D_{KL}$ will be lower for related birds."
   ]
  },
  {
   "cell_type": "code",
   "execution_count": 21,
   "id": "bb49f4af-455f-4a5c-9496-1848fad23da3",
   "metadata": {},
   "outputs": [
    {
     "data": {
      "image/png": "[encoded data removed]",
      "text/plain": [
       "<Figure size 584.875x500 with 1 Axes>"
      ]
     },
     "metadata": {},
     "output_type": "display_data"
    }
   ],
   "source": [
    "g = sns.catplot(\n",
    "    data=results_df,\n",
    "    x='ref',\n",
    "    y='DKL_PQ',\n",
    "    hue='related',\n",
    "    kind='box',\n",
    ")"
   ]
  },
  {
   "cell_type": "code",
   "execution_count": null,
   "id": "b517c5ff-efd1-4523-b2e4-50e6f71727dc",
   "metadata": {},
   "outputs": [],
   "source": []
  }
 ],
 "metadata": {
  "kernelspec": {
   "display_name": "Python 3 (ipykernel)",
   "language": "python",
   "name": "python3"
  },
  "language_info": {
   "codemirror_mode": {
    "name": "ipython",
    "version": 3
   },
   "file_extension": ".py",
   "mimetype": "text/x-python",
   "name": "python",
   "nbconvert_exporter": "python",
   "pygments_lexer": "ipython3",
   "version": "3.10.7"
  }
 },
 "nbformat": 4,
 "nbformat_minor": 5
}
